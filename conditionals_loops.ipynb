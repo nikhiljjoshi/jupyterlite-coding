{
  "metadata": {
    "kernelspec": {
      "name": "python",
      "display_name": "Python (Pyodide)",
      "language": "python"
    },
    "language_info": {
      "codemirror_mode": {
        "name": "python",
        "version": 3
      },
      "file_extension": ".py",
      "mimetype": "text/x-python",
      "name": "python",
      "nbconvert_exporter": "python",
      "pygments_lexer": "ipython3",
      "version": "3.8"
    }
  },
  "nbformat_minor": 5,
  "nbformat": 4,
  "cells": [
    {
      "id": "dec1b48f-7c88-40b9-8a96-b0ab7e12d219",
      "cell_type": "code",
      "source": "# Recap:\n\n# 1. In an equation like x = 1, x is a variable that is assigned a value of 1\n# 2. x has type of `int` (integer for whole number) because it was assigned a value of 1 (int)\n# 3. different \"types\" of variables: int, str, float, bool ",
      "metadata": {
        "trusted": true
      },
      "outputs": [],
      "execution_count": 76
    },
    {
      "id": "02a45e13-a22e-4606-b8e3-544ff4469e51",
      "cell_type": "code",
      "source": "## Comparison\n# double = signs: a == b   => not variable `a` assigned a value from `b`... is a equal to b?\na = 2\nb = a    # assign `b` same value as `a`\nprint(b == a)   # is b equal to a?   (b == a) => (2 == 2) => True\nb = a + 1   # assign `b` value of `a+1`\nprint(a==b)   # is b equal to a?   (b == a) => (3 == 2) => False",
      "metadata": {
        "trusted": true
      },
      "outputs": [],
      "execution_count": null
    },
    {
      "id": "47ad8c1e-b50d-43ef-bcc1-6c10045811e9",
      "cell_type": "code",
      "source": "## New type: list.\n# A list is a collection of items (usually of same types)",
      "metadata": {
        "trusted": true
      },
      "outputs": [],
      "execution_count": 77
    },
    {
      "id": "3a5f8c3b-1e77-48fe-8198-2bebf249ddf2",
      "cell_type": "code",
      "source": "# List of integers\nl = [1, 2, 3, 4]",
      "metadata": {
        "trusted": true
      },
      "outputs": [],
      "execution_count": 37
    },
    {
      "id": "50c6c249-9a4d-4780-a2d5-a56ecab0d955",
      "cell_type": "code",
      "source": "type(l)",
      "metadata": {
        "trusted": true
      },
      "outputs": [
        {
          "execution_count": 38,
          "output_type": "execute_result",
          "data": {
            "text/plain": "list"
          },
          "metadata": {}
        }
      ],
      "execution_count": 38
    },
    {
      "id": "8c52445b-ac4e-4016-a569-4cd962bac707",
      "cell_type": "code",
      "source": "print(l)",
      "metadata": {
        "trusted": true
      },
      "outputs": [
        {
          "name": "stdout",
          "output_type": "stream",
          "text": "[1, 2, 3, 4]\n"
        }
      ],
      "execution_count": 39
    },
    {
      "id": "8c5ece27-3021-42fc-945a-920a7bc5fcf8",
      "cell_type": "code",
      "source": "# List of strings\nl = [\"nikhil\", \"joshi\"]\nprint(l)",
      "metadata": {
        "trusted": true
      },
      "outputs": [
        {
          "name": "stdout",
          "output_type": "stream",
          "text": "['nikhil', 'joshi']\n"
        }
      ],
      "execution_count": 40
    },
    {
      "id": "0754ecd9-50ac-4422-b7f7-cf4c25ae5dfc",
      "cell_type": "code",
      "source": "# String itself is a string of characters or list of characters\ns = \"nikhil\"\nlist(s)",
      "metadata": {
        "trusted": true
      },
      "outputs": [
        {
          "execution_count": 78,
          "output_type": "execute_result",
          "data": {
            "text/plain": "['n', 'i', 'k', 'h', 'i', 'l']"
          },
          "metadata": {}
        }
      ],
      "execution_count": 78
    },
    {
      "id": "9bf2d561-b1a6-4bb4-907e-b51d2d5177ba",
      "cell_type": "code",
      "source": "# bool type: a True/False value\nx = True",
      "metadata": {
        "trusted": true
      },
      "outputs": [],
      "execution_count": 44
    },
    {
      "id": "3734360f-0e39-4816-a776-695d853f8f03",
      "cell_type": "code",
      "source": "print(x)",
      "metadata": {
        "trusted": true
      },
      "outputs": [
        {
          "name": "stdout",
          "output_type": "stream",
          "text": "True\n"
        }
      ],
      "execution_count": 45
    },
    {
      "id": "1ffa1514-190b-4f88-a2a5-06f7bda353ed",
      "cell_type": "code",
      "source": "## Conditionals: run this code only if condition is true\n# if condition:\n#    then run this",
      "metadata": {
        "trusted": true
      },
      "outputs": [],
      "execution_count": null
    },
    {
      "id": "509f271f-1887-4e70-b863-62690f4fcc5d",
      "cell_type": "code",
      "source": "if 1==2:\n    print(\"nikhil\")\n    print(\"j\")\nprint(\"joshi\")",
      "metadata": {
        "trusted": true
      },
      "outputs": [
        {
          "name": "stdout",
          "output_type": "stream",
          "text": "nikhil\nj\njoshi\n"
        }
      ],
      "execution_count": 51
    },
    {
      "id": "20e71c41-d4a6-4e52-b6da-155a49752ab3",
      "cell_type": "code",
      "source": "# More conditionals: if... elif ... else \nx = 100\n\nif x < 10:\n    print(\"I am small\")\nelif x < 100:\n    print(\"I am kind of big\")\nelse:\n    print(\"I am big\")",
      "metadata": {
        "trusted": true
      },
      "outputs": [
        {
          "name": "stdout",
          "output_type": "stream",
          "text": "I am big\n"
        }
      ],
      "execution_count": 60
    },
    {
      "id": "23da2eac-159b-463d-881d-28bdddc0fc43",
      "cell_type": "code",
      "source": "## Loop: run the same code many times for different values",
      "metadata": {
        "trusted": true
      },
      "outputs": [],
      "execution_count": null
    },
    {
      "id": "17db36b7-4eb8-4a9c-8c62-ae081dd7382b",
      "cell_type": "code",
      "source": "l = [\"nikhil\", \"j\", \"joshi\"]\nfor i in l:   # -> for each i in [\"nikhil\", \"j\", \"joshi\"]... do something\n    print(f\"This is {i}\")\n    print(\"I am done\")\n\n",
      "metadata": {
        "trusted": true
      },
      "outputs": [
        {
          "name": "stdout",
          "output_type": "stream",
          "text": "This is nikhil\nI am done\nThis is j\nI am done\nThis is joshi\nI am done\n"
        }
      ],
      "execution_count": 63
    },
    {
      "id": "3e9c5b8d-05b8-484b-82fa-86dea116b9c0",
      "cell_type": "code",
      "source": "# For loop for printing 1 to 10 numbers",
      "metadata": {
        "trusted": true
      },
      "outputs": [],
      "execution_count": null
    },
    {
      "id": "9b5d691b-d692-4e54-8fb9-9938349183ea",
      "cell_type": "code",
      "source": "# boring way\nprint(1)\nprint(2)\nprint(3)",
      "metadata": {
        "trusted": true
      },
      "outputs": [
        {
          "name": "stdout",
          "output_type": "stream",
          "text": "1\n2\n3\n"
        }
      ],
      "execution_count": 65
    },
    {
      "id": "f62cfcc9-dfc3-4d31-9703-2fe2efbb650d",
      "cell_type": "code",
      "source": "# smart way: loop\nfor i in range(11):   # -> for i in [1, 2, 3, 4, 5, 6, 7, 8, 9]\n    print(i)",
      "metadata": {
        "trusted": true
      },
      "outputs": [
        {
          "name": "stdout",
          "output_type": "stream",
          "text": "0\n2\n4\n6\n8\n10\n12\n14\n16\n18\n20\n"
        }
      ],
      "execution_count": 68
    },
    {
      "id": "fb3b9199-ac69-4198-83a4-24e2d1c11962",
      "cell_type": "code",
      "source": "## Exercise: Print Table of 2",
      "metadata": {
        "trusted": true
      },
      "outputs": [],
      "execution_count": null
    },
    {
      "id": "dac3f518-0d9e-422f-9ccb-7975664d766a",
      "cell_type": "code",
      "source": "print(2*1)\nprint(2*2)\nprint(2*3)\nprint(2*4)\n# ... and so on till 2*10",
      "metadata": {
        "trusted": true
      },
      "outputs": [
        {
          "name": "stdout",
          "output_type": "stream",
          "text": "2\n4\n6\n8\n"
        }
      ],
      "execution_count": 72
    },
    {
      "id": "35f91c0c-8f5e-4321-becd-ec64c1904332",
      "cell_type": "code",
      "source": "for i in range(11):\n    print(2*i)",
      "metadata": {
        "trusted": true
      },
      "outputs": [
        {
          "name": "stdout",
          "output_type": "stream",
          "text": "0\n2\n4\n6\n8\n10\n12\n14\n16\n18\n20\n"
        }
      ],
      "execution_count": 73
    },
    {
      "id": "e833b08d-0057-4b10-9cbd-c9b60d7144c8",
      "cell_type": "code",
      "source": "# to remove that annoying 0 at the beginning adjust `range` to start at 1\nfor i in range(1, 11):\n    print(2*i)",
      "metadata": {
        "trusted": true
      },
      "outputs": [
        {
          "name": "stdout",
          "output_type": "stream",
          "text": "2\n4\n6\n8\n10\n12\n14\n16\n18\n20\n"
        }
      ],
      "execution_count": 75
    },
    {
      "id": "7a2aaa6e-dc60-41b1-a905-f1942836ec83",
      "cell_type": "code",
      "source": "## Exercise: Write a function to print table of any given integer.",
      "metadata": {
        "trusted": true
      },
      "outputs": [],
      "execution_count": null
    }
  ]
}