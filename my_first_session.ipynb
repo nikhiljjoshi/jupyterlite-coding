{
  "metadata": {
    "kernelspec": {
      "name": "python",
      "display_name": "Python (Pyodide)",
      "language": "python"
    },
    "language_info": {
      "codemirror_mode": {
        "name": "python",
        "version": 3
      },
      "file_extension": ".py",
      "mimetype": "text/x-python",
      "name": "python",
      "nbconvert_exporter": "python",
      "pygments_lexer": "ipython3",
      "version": "3.8"
    }
  },
  "nbformat_minor": 5,
  "nbformat": 4,
  "cells": [
    {
      "id": "09129f5c-594f-43e0-b682-694bf2c492fd",
      "cell_type": "code",
      "source": "2*8",
      "metadata": {
        "trusted": true
      },
      "outputs": [
        {
          "execution_count": 1,
          "output_type": "execute_result",
          "data": {
            "text/plain": "16"
          },
          "metadata": {}
        }
      ],
      "execution_count": 1
    },
    {
      "id": "882eed4a-4071-420a-9268-f69df0e476bd",
      "cell_type": "code",
      "source": "print(\"Hi\")",
      "metadata": {
        "trusted": true
      },
      "outputs": [
        {
          "name": "stdout",
          "output_type": "stream",
          "text": "Hi\n"
        }
      ],
      "execution_count": 2
    },
    {
      "id": "5459feeb-aa1e-4d19-a0f9-70cd63808ff0",
      "cell_type": "code",
      "source": "input(\"What is your name?\")",
      "metadata": {
        "trusted": true
      },
      "outputs": [
        {
          "output_type": "stream",
          "name": "stdin",
          "text": "What is your name? nikhil\n"
        },
        {
          "execution_count": 4,
          "output_type": "execute_result",
          "data": {
            "text/plain": "'nikhil'"
          },
          "metadata": {}
        }
      ],
      "execution_count": 4
    },
    {
      "id": "79875daa-9034-4b99-8381-9b1b47046b91",
      "cell_type": "code",
      "source": "name = input(\"what is your name?\")\nprint(\"Hi\", name)",
      "metadata": {
        "trusted": true
      },
      "outputs": [
        {
          "output_type": "stream",
          "name": "stdin",
          "text": "what is your name? Aadhya\n"
        },
        {
          "name": "stdout",
          "output_type": "stream",
          "text": "Hi Aadhya\n"
        }
      ],
      "execution_count": 3
    },
    {
      "id": "c2dc6a2e-6e74-4bc6-801d-49fe997b80b6",
      "cell_type": "code",
      "source": "def ask_and_print():\n    name = input(\"what is your name?\")\n    school_name = input(\"what is your school name?\")\n    print(\"Hi\", name, \"you are from \", school_name)\n    print(name + school_name)",
      "metadata": {
        "trusted": true
      },
      "outputs": [],
      "execution_count": 11
    },
    {
      "id": "ae5199f2-13f8-4d2a-ad27-8e87fbb2fb32",
      "cell_type": "code",
      "source": "ask_and_print()",
      "metadata": {
        "trusted": true
      },
      "outputs": [
        {
          "output_type": "stream",
          "name": "stdin",
          "text": "what is your name? doremon\nwhat is your school name? msje\n"
        },
        {
          "name": "stdout",
          "output_type": "stream",
          "text": "Hi doremon you are from  msje\ndoremonmsje\n"
        }
      ],
      "execution_count": 12
    },
    {
      "id": "1fcbdc62-71af-40e3-aed4-1c0622ec8f7a",
      "cell_type": "code",
      "source": "def print_name_and_school(name, school_name):\n    print(\"Hi\", name, \"You are from \", school_name)",
      "metadata": {
        "trusted": true
      },
      "outputs": [],
      "execution_count": 13
    },
    {
      "id": "2f2dbbcf-f26c-46c0-90ae-93970407f066",
      "cell_type": "code",
      "source": "print_name_and_school(\"nikhil\", \"msje\")",
      "metadata": {
        "trusted": true
      },
      "outputs": [
        {
          "name": "stdout",
          "output_type": "stream",
          "text": "Hi nikhil You are from  msje\n"
        }
      ],
      "execution_count": 15
    },
    {
      "id": "a3bcaf08-ba8a-48a7-9c5a-5bd8878a37bb",
      "cell_type": "code",
      "source": "name = input(\"what is your name?\")\nschool_name = input(\"what is your school name?\")\nprint_name_and_school(name, school_name)    \n    ",
      "metadata": {
        "trusted": true
      },
      "outputs": [
        {
          "output_type": "stream",
          "name": "stdin",
          "text": "what is your name? nikhil\nwhat is your school name? msje\n"
        },
        {
          "name": "stdout",
          "output_type": "stream",
          "text": "Hi nikhil You are from  msje\n"
        }
      ],
      "execution_count": 16
    },
    {
      "id": "a958776f-a938-45f1-afb6-219fdd4c3163",
      "cell_type": "code",
      "source": "import datetime",
      "metadata": {
        "trusted": true
      },
      "outputs": [],
      "execution_count": 20
    },
    {
      "id": "22f53428-5a8a-4771-a017-c3496cbc83c5",
      "cell_type": "code",
      "source": "datetime.datetime.now()",
      "metadata": {
        "trusted": true
      },
      "outputs": [
        {
          "execution_count": 21,
          "output_type": "execute_result",
          "data": {
            "text/plain": "datetime.datetime(2025, 8, 30, 11, 26, 12, 120000)"
          },
          "metadata": {}
        }
      ],
      "execution_count": 21
    },
    {
      "id": "4f9cb0bf-7188-44de-9fb2-6ae6aef9d02c",
      "cell_type": "code",
      "source": "",
      "metadata": {
        "trusted": true
      },
      "outputs": [],
      "execution_count": null
    }
  ]
}